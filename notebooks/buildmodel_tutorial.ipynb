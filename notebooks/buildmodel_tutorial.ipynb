{
  "cells": [
    {
      "cell_type": "code",
      "execution_count": 2,
      "metadata": {
        "id": "55JnQMR5Duc7"
      },
      "outputs": [],
      "source": [
        "# For tips on running notebooks in Google Colab, see\n",
        "# https://pytorch.org/tutorials/beginner/colab\n",
        "%matplotlib inline"
      ]
    },
    {
      "cell_type": "markdown",
      "metadata": {
        "id": "qxxoPy-VDuc8"
      },
      "source": [
        "[Learn the Basics](intro.html) \\|\\|\n",
        "[Quickstart](quickstart_tutorial.html) \\|\\|\n",
        "[Tensors](tensorqs_tutorial.html) \\|\\| [Datasets &\n",
        "DataLoaders](data_tutorial.html) \\|\\|\n",
        "[Transforms](transforms_tutorial.html) \\|\\| **Build Model** \\|\\|\n",
        "[Autograd](autogradqs_tutorial.html) \\|\\|\n",
        "[Optimization](optimization_tutorial.html) \\|\\| [Save & Load\n",
        "Model](saveloadrun_tutorial.html)\n",
        "\n",
        "Build the Neural Network\n",
        "========================\n",
        "\n",
        "Neural networks comprise of layers/modules that perform operations on\n",
        "data. The [torch.nn](https://pytorch.org/docs/stable/nn.html) namespace\n",
        "provides all the building blocks you need to build your own neural\n",
        "network. Every module in PyTorch subclasses the\n",
        "[nn.Module](https://pytorch.org/docs/stable/generated/torch.nn.Module.html).\n",
        "A neural network is a module itself that consists of other modules\n",
        "(layers). This nested structure allows for building and managing complex\n",
        "architectures easily.\n",
        "\n",
        "In the following sections, we\\'ll build a neural network to classify\n",
        "images in the FashionMNIST dataset.\n"
      ]
    },
    {
      "cell_type": "code",
      "execution_count": 1,
      "metadata": {
        "id": "zcEawPDADuc_"
      },
      "outputs": [],
      "source": [
        "import os\n",
        "import torch\n",
        "from torch import nn\n",
        "from torch.utils.data import DataLoader\n",
        "from torchvision import datasets, transforms"
      ]
    },
    {
      "cell_type": "markdown",
      "metadata": {
        "id": "0TV92alYDuc_"
      },
      "source": [
        "Get Device for Training\n",
        "=======================\n",
        "\n",
        "We want to be able to train our model on an\n",
        "[accelerator](https://pytorch.org/docs/stable/torch.html#accelerators)\n",
        "such as CUDA, MPS, MTIA, or XPU. If the current accelerator is\n",
        "available, we will use it. Otherwise, we use the CPU.\n"
      ]
    },
    {
      "cell_type": "code",
      "execution_count": 3,
      "metadata": {
        "id": "aYAvpFbODudA",
        "outputId": "04e9952c-d3d3-494e-d172-3b5b849835a1",
        "colab": {
          "base_uri": "https://localhost:8080/"
        }
      },
      "outputs": [
        {
          "output_type": "stream",
          "name": "stdout",
          "text": [
            "PyTorch version: 2.5.1+cu124\n",
            "Using cuda device\n"
          ]
        }
      ],
      "source": [
        "# Check PyTorch version\n",
        "print(f\"PyTorch version: {torch.__version__}\")\n",
        "\n",
        "# Check for CUDA availability\n",
        "if torch.cuda.is_available():\n",
        "    device = \"cuda\"\n",
        "else:\n",
        "    device = \"cpu\"\n",
        "\n",
        "print(f\"Using {device} device\")"
      ]
    },
    {
      "cell_type": "markdown",
      "metadata": {
        "id": "-j1k5t_EDudB"
      },
      "source": [
        "Define the Class\n",
        "================\n",
        "\n",
        "We define our neural network by subclassing `nn.Module`, and initialize\n",
        "the neural network layers in `__init__`. Every `nn.Module` subclass\n",
        "implements the operations on input data in the `forward` method.\n"
      ]
    },
    {
      "cell_type": "code",
      "execution_count": 4,
      "metadata": {
        "id": "JEQ_7qeJDudB"
      },
      "outputs": [],
      "source": [
        "class NeuralNetwork(nn.Module):\n",
        "    def __init__(self):\n",
        "        super().__init__()\n",
        "        self.flatten = nn.Flatten()\n",
        "        self.linear_relu_stack = nn.Sequential(\n",
        "            nn.Linear(28*28, 512),\n",
        "            nn.ReLU(),\n",
        "            nn.Linear(512, 512),\n",
        "            nn.ReLU(),\n",
        "            nn.Linear(512, 10),\n",
        "        )\n",
        "\n",
        "    def forward(self, x):\n",
        "        x = self.flatten(x)\n",
        "        logits = self.linear_relu_stack(x)\n",
        "        return logits"
      ]
    },
    {
      "cell_type": "markdown",
      "metadata": {
        "id": "nC5oPoeUDudC"
      },
      "source": [
        "We create an instance of `NeuralNetwork`, and move it to the `device`,\n",
        "and print its structure.\n"
      ]
    },
    {
      "cell_type": "code",
      "execution_count": 5,
      "metadata": {
        "id": "lB0srKTmDudC",
        "outputId": "6a99afbf-4309-409f-9ba9-9d3a24b72e88",
        "colab": {
          "base_uri": "https://localhost:8080/"
        }
      },
      "outputs": [
        {
          "output_type": "stream",
          "name": "stdout",
          "text": [
            "NeuralNetwork(\n",
            "  (flatten): Flatten(start_dim=1, end_dim=-1)\n",
            "  (linear_relu_stack): Sequential(\n",
            "    (0): Linear(in_features=784, out_features=512, bias=True)\n",
            "    (1): ReLU()\n",
            "    (2): Linear(in_features=512, out_features=512, bias=True)\n",
            "    (3): ReLU()\n",
            "    (4): Linear(in_features=512, out_features=10, bias=True)\n",
            "  )\n",
            ")\n"
          ]
        }
      ],
      "source": [
        "model = NeuralNetwork().to(device)\n",
        "print(model)"
      ]
    },
    {
      "cell_type": "markdown",
      "metadata": {
        "id": "tYd3meczDudC"
      },
      "source": [
        "To use the model, we pass it the input data. This executes the model\\'s\n",
        "`forward`, along with some [background\n",
        "operations](https://github.com/pytorch/pytorch/blob/270111b7b611d174967ed204776985cefca9c144/torch/nn/modules/module.py#L866).\n",
        "Do not call `model.forward()` directly!\n",
        "\n",
        "Calling the model on the input returns a 2-dimensional tensor with dim=0\n",
        "corresponding to each output of 10 raw predicted values for each class,\n",
        "and dim=1 corresponding to the individual values of each output. We get\n",
        "the prediction probabilities by passing it through an instance of the\n",
        "`nn.Softmax` module.\n"
      ]
    },
    {
      "cell_type": "code",
      "execution_count": 6,
      "metadata": {
        "id": "M5NxOt8HDudD",
        "outputId": "90e33092-8447-4729-8e44-45fe7bd14c6f",
        "colab": {
          "base_uri": "https://localhost:8080/"
        }
      },
      "outputs": [
        {
          "output_type": "stream",
          "name": "stdout",
          "text": [
            "Predicted class: tensor([1], device='cuda:0')\n"
          ]
        }
      ],
      "source": [
        "X = torch.rand(1, 28, 28, device=device)\n",
        "logits = model(X)\n",
        "pred_probab = nn.Softmax(dim=1)(logits)\n",
        "y_pred = pred_probab.argmax(1)\n",
        "print(f\"Predicted class: {y_pred}\")"
      ]
    },
    {
      "cell_type": "markdown",
      "metadata": {
        "id": "80OH8GqxDudD"
      },
      "source": [
        "------------------------------------------------------------------------\n"
      ]
    },
    {
      "cell_type": "markdown",
      "metadata": {
        "id": "D5iFafJBDudD"
      },
      "source": [
        "Model Layers\n",
        "============\n",
        "\n",
        "Let\\'s break down the layers in the FashionMNIST model. To illustrate\n",
        "it, we will take a sample minibatch of 3 images of size 28x28 and see\n",
        "what happens to it as we pass it through the network.\n"
      ]
    },
    {
      "cell_type": "code",
      "execution_count": 7,
      "metadata": {
        "id": "rJ3aZZHZDudD",
        "outputId": "fdbe73dd-f220-4794-fa2f-fcfc15d9923f",
        "colab": {
          "base_uri": "https://localhost:8080/"
        }
      },
      "outputs": [
        {
          "output_type": "stream",
          "name": "stdout",
          "text": [
            "torch.Size([3, 28, 28])\n"
          ]
        }
      ],
      "source": [
        "input_image = torch.rand(3,28,28)\n",
        "print(input_image.size())"
      ]
    },
    {
      "cell_type": "code",
      "source": [
        "input_image"
      ],
      "metadata": {
        "id": "MRGphJNxG8Xv",
        "outputId": "d0d98e97-acb3-4b47-c841-8b1f7010a20c",
        "colab": {
          "base_uri": "https://localhost:8080/"
        }
      },
      "execution_count": 9,
      "outputs": [
        {
          "output_type": "execute_result",
          "data": {
            "text/plain": [
              "tensor([[[0.1041, 0.6642, 0.8865,  ..., 0.8074, 0.8649, 0.8913],\n",
              "         [0.4938, 0.8680, 0.0176,  ..., 0.0788, 0.0485, 0.2139],\n",
              "         [0.2456, 0.4244, 0.0550,  ..., 0.7351, 0.1529, 0.0170],\n",
              "         ...,\n",
              "         [0.1616, 0.1474, 0.1134,  ..., 0.1225, 0.7064, 0.4088],\n",
              "         [0.8248, 0.5359, 0.7447,  ..., 0.3934, 0.8279, 0.2435],\n",
              "         [0.4034, 0.7625, 0.8573,  ..., 0.1563, 0.7311, 0.9676]],\n",
              "\n",
              "        [[0.6070, 0.7472, 0.6492,  ..., 0.4927, 0.6083, 0.6294],\n",
              "         [0.4802, 0.0917, 0.7332,  ..., 0.3275, 0.4717, 0.2612],\n",
              "         [0.6274, 0.1361, 0.7011,  ..., 0.0664, 0.0216, 0.7632],\n",
              "         ...,\n",
              "         [0.2861, 0.3494, 0.7235,  ..., 0.3752, 0.3210, 0.7148],\n",
              "         [0.3772, 0.2052, 0.3908,  ..., 0.2823, 0.0867, 0.9238],\n",
              "         [0.9481, 0.7678, 0.1393,  ..., 0.0518, 0.0048, 0.3180]],\n",
              "\n",
              "        [[0.7604, 0.0543, 0.5064,  ..., 0.6290, 0.3314, 0.3878],\n",
              "         [0.1690, 0.9217, 0.2242,  ..., 0.2452, 0.0972, 0.7110],\n",
              "         [0.6054, 0.1016, 0.3727,  ..., 0.2637, 0.7226, 0.3592],\n",
              "         ...,\n",
              "         [0.9214, 0.7157, 0.0037,  ..., 0.9813, 0.9524, 0.9926],\n",
              "         [0.3668, 0.7240, 0.3418,  ..., 0.2469, 0.3563, 0.9054],\n",
              "         [0.5019, 0.3464, 0.1689,  ..., 0.8392, 0.7487, 0.6078]]])"
            ]
          },
          "metadata": {},
          "execution_count": 9
        }
      ]
    },
    {
      "cell_type": "markdown",
      "metadata": {
        "id": "rg4SEVObDudD"
      },
      "source": [
        "nn.Flatten\n",
        "==========\n",
        "\n",
        "We initialize the\n",
        "[nn.Flatten](https://pytorch.org/docs/stable/generated/torch.nn.Flatten.html)\n",
        "layer to convert each 2D 28x28 image into a contiguous array of 784\n",
        "pixel values ( the minibatch dimension (at dim=0) is maintained).\n"
      ]
    },
    {
      "cell_type": "code",
      "execution_count": 8,
      "metadata": {
        "id": "6EeFp7MGDudE",
        "outputId": "933cf640-d23c-4fe8-dd15-6dacd48601b9",
        "colab": {
          "base_uri": "https://localhost:8080/"
        }
      },
      "outputs": [
        {
          "output_type": "stream",
          "name": "stdout",
          "text": [
            "torch.Size([3, 784])\n"
          ]
        }
      ],
      "source": [
        "flatten = nn.Flatten()\n",
        "flat_image = flatten(input_image)\n",
        "print(flat_image.size())"
      ]
    },
    {
      "cell_type": "code",
      "source": [
        "flat_image"
      ],
      "metadata": {
        "id": "3o-Yqi3AHG1v",
        "outputId": "5ad0139d-2cc2-4428-d619-2a80d8ed9dea",
        "colab": {
          "base_uri": "https://localhost:8080/"
        }
      },
      "execution_count": 10,
      "outputs": [
        {
          "output_type": "execute_result",
          "data": {
            "text/plain": [
              "tensor([[0.1041, 0.6642, 0.8865,  ..., 0.1563, 0.7311, 0.9676],\n",
              "        [0.6070, 0.7472, 0.6492,  ..., 0.0518, 0.0048, 0.3180],\n",
              "        [0.7604, 0.0543, 0.5064,  ..., 0.8392, 0.7487, 0.6078]])"
            ]
          },
          "metadata": {},
          "execution_count": 10
        }
      ]
    },
    {
      "cell_type": "markdown",
      "metadata": {
        "id": "I5P5wLAbDudE"
      },
      "source": [
        "nn.Linear\n",
        "=========\n",
        "\n",
        "The [linear\n",
        "layer](https://pytorch.org/docs/stable/generated/torch.nn.Linear.html)\n",
        "is a module that applies a linear transformation on the input using its\n",
        "stored weights and biases.\n"
      ]
    },
    {
      "cell_type": "code",
      "execution_count": 11,
      "metadata": {
        "id": "4Bzwa3rtDudE",
        "outputId": "aa72be73-05eb-4fbe-f864-86e51a76b852",
        "colab": {
          "base_uri": "https://localhost:8080/"
        }
      },
      "outputs": [
        {
          "output_type": "stream",
          "name": "stdout",
          "text": [
            "torch.Size([3, 20])\n"
          ]
        }
      ],
      "source": [
        "layer1 = nn.Linear(in_features=28*28, out_features=20)\n",
        "hidden1 = layer1(flat_image)\n",
        "print(hidden1.size())"
      ]
    },
    {
      "cell_type": "code",
      "source": [
        "hidden1"
      ],
      "metadata": {
        "id": "6MEiCfzOHS9L",
        "outputId": "11f9d770-9c9f-48ba-b87a-7d7c9396fed1",
        "colab": {
          "base_uri": "https://localhost:8080/"
        }
      },
      "execution_count": 12,
      "outputs": [
        {
          "output_type": "execute_result",
          "data": {
            "text/plain": [
              "tensor([[-0.2635,  0.4589, -0.0954,  0.1174, -0.1187,  0.3627,  0.2919, -0.1415,\n",
              "          0.2764,  0.2747, -0.0103,  0.3550, -0.0704, -0.1993, -0.0670, -0.3247,\n",
              "         -0.6411, -0.0427,  0.5635, -0.0960],\n",
              "        [-0.0637,  0.4324, -0.3145,  0.1958,  0.2147,  0.6603,  0.8161,  0.1342,\n",
              "         -0.1915, -0.0595,  0.0862, -0.2509, -0.2520,  0.0324, -0.4304, -0.1478,\n",
              "         -0.2823,  0.1197,  0.5451,  0.2152],\n",
              "        [-0.0463,  0.4023,  0.2032,  0.4113,  0.0776,  0.5982,  0.4663,  0.0033,\n",
              "          0.1075,  0.1920,  0.0586, -0.2193, -0.3082, -0.3627, -0.1487, -0.1938,\n",
              "         -0.6051,  0.0566,  0.3677, -0.0866]], grad_fn=<AddmmBackward0>)"
            ]
          },
          "metadata": {},
          "execution_count": 12
        }
      ]
    },
    {
      "cell_type": "markdown",
      "metadata": {
        "id": "oLlDBQ8KDudE"
      },
      "source": [
        "nn.ReLU\n",
        "=======\n",
        "\n",
        "Non-linear activations are what create the complex mappings between the\n",
        "model\\'s inputs and outputs. They are applied after linear\n",
        "transformations to introduce *nonlinearity*, helping neural networks\n",
        "learn a wide variety of phenomena.\n",
        "\n",
        "In this model, we use\n",
        "[nn.ReLU](https://pytorch.org/docs/stable/generated/torch.nn.ReLU.html)\n",
        "between our linear layers, but there\\'s other activations to introduce\n",
        "non-linearity in your model.\n"
      ]
    },
    {
      "cell_type": "code",
      "execution_count": 13,
      "metadata": {
        "id": "5KYSoFenDudE",
        "outputId": "fec6de1b-9c3c-4f07-e6c1-6aa5db8606a0",
        "colab": {
          "base_uri": "https://localhost:8080/"
        }
      },
      "outputs": [
        {
          "output_type": "stream",
          "name": "stdout",
          "text": [
            "Before ReLU: tensor([[-0.2635,  0.4589, -0.0954,  0.1174, -0.1187,  0.3627,  0.2919, -0.1415,\n",
            "          0.2764,  0.2747, -0.0103,  0.3550, -0.0704, -0.1993, -0.0670, -0.3247,\n",
            "         -0.6411, -0.0427,  0.5635, -0.0960],\n",
            "        [-0.0637,  0.4324, -0.3145,  0.1958,  0.2147,  0.6603,  0.8161,  0.1342,\n",
            "         -0.1915, -0.0595,  0.0862, -0.2509, -0.2520,  0.0324, -0.4304, -0.1478,\n",
            "         -0.2823,  0.1197,  0.5451,  0.2152],\n",
            "        [-0.0463,  0.4023,  0.2032,  0.4113,  0.0776,  0.5982,  0.4663,  0.0033,\n",
            "          0.1075,  0.1920,  0.0586, -0.2193, -0.3082, -0.3627, -0.1487, -0.1938,\n",
            "         -0.6051,  0.0566,  0.3677, -0.0866]], grad_fn=<AddmmBackward0>)\n",
            "\n",
            "\n",
            "After ReLU: tensor([[0.0000, 0.4589, 0.0000, 0.1174, 0.0000, 0.3627, 0.2919, 0.0000, 0.2764,\n",
            "         0.2747, 0.0000, 0.3550, 0.0000, 0.0000, 0.0000, 0.0000, 0.0000, 0.0000,\n",
            "         0.5635, 0.0000],\n",
            "        [0.0000, 0.4324, 0.0000, 0.1958, 0.2147, 0.6603, 0.8161, 0.1342, 0.0000,\n",
            "         0.0000, 0.0862, 0.0000, 0.0000, 0.0324, 0.0000, 0.0000, 0.0000, 0.1197,\n",
            "         0.5451, 0.2152],\n",
            "        [0.0000, 0.4023, 0.2032, 0.4113, 0.0776, 0.5982, 0.4663, 0.0033, 0.1075,\n",
            "         0.1920, 0.0586, 0.0000, 0.0000, 0.0000, 0.0000, 0.0000, 0.0000, 0.0566,\n",
            "         0.3677, 0.0000]], grad_fn=<ReluBackward0>)\n"
          ]
        }
      ],
      "source": [
        "print(f\"Before ReLU: {hidden1}\\n\\n\")\n",
        "hidden1 = nn.ReLU()(hidden1)\n",
        "print(f\"After ReLU: {hidden1}\")"
      ]
    },
    {
      "cell_type": "markdown",
      "metadata": {
        "id": "sHe9uLpNDudF"
      },
      "source": [
        "nn.Sequential\n",
        "=============\n",
        "\n",
        "[nn.Sequential](https://pytorch.org/docs/stable/generated/torch.nn.Sequential.html)\n",
        "is an ordered container of modules. The data is passed through all the\n",
        "modules in the same order as defined. You can use sequential containers\n",
        "to put together a quick network like `seq_modules`.\n"
      ]
    },
    {
      "cell_type": "code",
      "execution_count": 14,
      "metadata": {
        "id": "Ed8Mza9RDudF"
      },
      "outputs": [],
      "source": [
        "seq_modules = nn.Sequential(\n",
        "    flatten,\n",
        "    layer1,\n",
        "    nn.ReLU(),\n",
        "    nn.Linear(20, 10)\n",
        ")\n",
        "input_image = torch.rand(3,28,28)\n",
        "logits = seq_modules(input_image)"
      ]
    },
    {
      "cell_type": "code",
      "source": [
        "logits"
      ],
      "metadata": {
        "id": "EPEo3IcDHoKH",
        "outputId": "4e833fbf-3852-40c6-d0af-ca6eb3d8955a",
        "colab": {
          "base_uri": "https://localhost:8080/"
        }
      },
      "execution_count": 15,
      "outputs": [
        {
          "output_type": "execute_result",
          "data": {
            "text/plain": [
              "tensor([[ 0.1028, -0.0718,  0.1457, -0.1696,  0.0377, -0.2148,  0.0056, -0.3730,\n",
              "         -0.2826,  0.0219],\n",
              "        [ 0.1049, -0.0349,  0.1525, -0.1262,  0.0204, -0.1997, -0.0188, -0.3334,\n",
              "         -0.2156,  0.0603],\n",
              "        [ 0.1962, -0.1181,  0.2968, -0.0483, -0.0103, -0.2684, -0.0864, -0.3283,\n",
              "         -0.1928,  0.1222]], grad_fn=<AddmmBackward0>)"
            ]
          },
          "metadata": {},
          "execution_count": 15
        }
      ]
    },
    {
      "cell_type": "markdown",
      "metadata": {
        "id": "99kILg0bDudF"
      },
      "source": [
        "nn.Softmax\n",
        "==========\n",
        "\n",
        "The last linear layer of the neural network returns [logits]{.title-ref}\n",
        "- raw values in \\[-infty, infty\\] - which are passed to the\n",
        "[nn.Softmax](https://pytorch.org/docs/stable/generated/torch.nn.Softmax.html)\n",
        "module. The logits are scaled to values \\[0, 1\\] representing the\n",
        "model\\'s predicted probabilities for each class. `dim` parameter\n",
        "indicates the dimension along which the values must sum to 1.\n"
      ]
    },
    {
      "cell_type": "code",
      "execution_count": 16,
      "metadata": {
        "id": "XN00yT_xDudF"
      },
      "outputs": [],
      "source": [
        "softmax = nn.Softmax(dim=1)\n",
        "pred_probab = softmax(logits)"
      ]
    },
    {
      "cell_type": "code",
      "source": [
        "pred_probab"
      ],
      "metadata": {
        "id": "-5vE-9edHx9M",
        "outputId": "c2bf5086-1860-4ff4-d7b0-7e58524d9bb4",
        "colab": {
          "base_uri": "https://localhost:8080/"
        }
      },
      "execution_count": 17,
      "outputs": [
        {
          "output_type": "execute_result",
          "data": {
            "text/plain": [
              "tensor([[0.1185, 0.0995, 0.1237, 0.0902, 0.1110, 0.0862, 0.1075, 0.0736, 0.0806,\n",
              "         0.1093],\n",
              "        [0.1166, 0.1013, 0.1222, 0.0925, 0.1071, 0.0860, 0.1030, 0.0752, 0.0846,\n",
              "         0.1115],\n",
              "        [0.1248, 0.0911, 0.1380, 0.0977, 0.1015, 0.0784, 0.0941, 0.0739, 0.0846,\n",
              "         0.1159]], grad_fn=<SoftmaxBackward0>)"
            ]
          },
          "metadata": {},
          "execution_count": 17
        }
      ]
    },
    {
      "cell_type": "markdown",
      "metadata": {
        "id": "NNX8nUOGDudF"
      },
      "source": [
        "Model Parameters\n",
        "================\n",
        "\n",
        "Many layers inside a neural network are *parameterized*, i.e. have\n",
        "associated weights and biases that are optimized during training.\n",
        "Subclassing `nn.Module` automatically tracks all fields defined inside\n",
        "your model object, and makes all parameters accessible using your\n",
        "model\\'s `parameters()` or `named_parameters()` methods.\n",
        "\n",
        "In this example, we iterate over each parameter, and print its size and\n",
        "a preview of its values.\n"
      ]
    },
    {
      "cell_type": "code",
      "execution_count": 18,
      "metadata": {
        "id": "tOf1nxK2DudG",
        "outputId": "d75037fd-15d9-447e-ed79-741abbb2f354",
        "colab": {
          "base_uri": "https://localhost:8080/"
        }
      },
      "outputs": [
        {
          "output_type": "stream",
          "name": "stdout",
          "text": [
            "Model structure: NeuralNetwork(\n",
            "  (flatten): Flatten(start_dim=1, end_dim=-1)\n",
            "  (linear_relu_stack): Sequential(\n",
            "    (0): Linear(in_features=784, out_features=512, bias=True)\n",
            "    (1): ReLU()\n",
            "    (2): Linear(in_features=512, out_features=512, bias=True)\n",
            "    (3): ReLU()\n",
            "    (4): Linear(in_features=512, out_features=10, bias=True)\n",
            "  )\n",
            ")\n",
            "\n",
            "\n",
            "Layer: linear_relu_stack.0.weight | Size: torch.Size([512, 784]) | Values : tensor([[-0.0309,  0.0082, -0.0215,  ...,  0.0141, -0.0136, -0.0276],\n",
            "        [ 0.0282,  0.0175,  0.0089,  ..., -0.0195,  0.0183,  0.0207]],\n",
            "       device='cuda:0', grad_fn=<SliceBackward0>) \n",
            "\n",
            "Layer: linear_relu_stack.0.bias | Size: torch.Size([512]) | Values : tensor([ 0.0181, -0.0051], device='cuda:0', grad_fn=<SliceBackward0>) \n",
            "\n",
            "Layer: linear_relu_stack.2.weight | Size: torch.Size([512, 512]) | Values : tensor([[-0.0319,  0.0248,  0.0332,  ..., -0.0335, -0.0324,  0.0169],\n",
            "        [ 0.0038,  0.0401,  0.0028,  ...,  0.0070,  0.0325,  0.0177]],\n",
            "       device='cuda:0', grad_fn=<SliceBackward0>) \n",
            "\n",
            "Layer: linear_relu_stack.2.bias | Size: torch.Size([512]) | Values : tensor([ 0.0265, -0.0215], device='cuda:0', grad_fn=<SliceBackward0>) \n",
            "\n",
            "Layer: linear_relu_stack.4.weight | Size: torch.Size([10, 512]) | Values : tensor([[-0.0187, -0.0441, -0.0030,  ..., -0.0226,  0.0401,  0.0393],\n",
            "        [ 0.0414,  0.0081, -0.0405,  ...,  0.0327,  0.0187, -0.0345]],\n",
            "       device='cuda:0', grad_fn=<SliceBackward0>) \n",
            "\n",
            "Layer: linear_relu_stack.4.bias | Size: torch.Size([10]) | Values : tensor([-0.0326, -0.0404], device='cuda:0', grad_fn=<SliceBackward0>) \n",
            "\n"
          ]
        }
      ],
      "source": [
        "print(f\"Model structure: {model}\\n\\n\")\n",
        "\n",
        "for name, param in model.named_parameters():\n",
        "    print(f\"Layer: {name} | Size: {param.size()} | Values : {param[:2]} \\n\")"
      ]
    },
    {
      "cell_type": "markdown",
      "metadata": {
        "id": "AeMedkM7DudG"
      },
      "source": [
        "------------------------------------------------------------------------\n"
      ]
    },
    {
      "cell_type": "markdown",
      "metadata": {
        "id": "fxziiCGfDudG"
      },
      "source": [
        "Further Reading\n",
        "===============\n",
        "\n",
        "-   [torch.nn API](https://pytorch.org/docs/stable/nn.html)\n"
      ]
    }
  ],
  "metadata": {
    "kernelspec": {
      "display_name": "Python 3",
      "name": "python3"
    },
    "language_info": {
      "codemirror_mode": {
        "name": "ipython",
        "version": 3
      },
      "file_extension": ".py",
      "mimetype": "text/x-python",
      "name": "python",
      "nbconvert_exporter": "python",
      "pygments_lexer": "ipython3",
      "version": "3.10.12"
    },
    "colab": {
      "provenance": [],
      "gpuType": "T4"
    },
    "accelerator": "GPU"
  },
  "nbformat": 4,
  "nbformat_minor": 0
}